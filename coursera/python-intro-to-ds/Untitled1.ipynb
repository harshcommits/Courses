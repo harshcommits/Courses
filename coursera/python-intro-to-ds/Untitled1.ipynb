{
 "cells": [
  {
   "cell_type": "code",
   "execution_count": 2,
   "id": "35476226-5034-419a-aea9-19e2cbf7bddb",
   "metadata": {},
   "outputs": [
    {
     "data": {
      "text/plain": [
       "Alice      Physics\n",
       "Jack     Chemistry\n",
       "Molly      English\n",
       "dtype: object"
      ]
     },
     "execution_count": 2,
     "metadata": {},
     "output_type": "execute_result"
    }
   ],
   "source": [
    "# fetching values from series via index and key\n",
    "\n",
    "import pandas as pd\n",
    "\n",
    "classes = {\"Alice\": \"Physics\", \"Jack\": \"Chemistry\", \"Molly\": \"English\"}\n",
    "s = pd.Series(classes)\n",
    "s"
   ]
  },
  {
   "cell_type": "code",
   "execution_count": 3,
   "id": "434bfcea-6e79-4667-8c58-a5e59e64c4ac",
   "metadata": {},
   "outputs": [
    {
     "data": {
      "text/plain": [
       "'Chemistry'"
      ]
     },
     "execution_count": 3,
     "metadata": {},
     "output_type": "execute_result"
    }
   ],
   "source": [
    "# Fetching data by index\n",
    "\n",
    "s.iloc[1]"
   ]
  },
  {
   "cell_type": "code",
   "execution_count": 4,
   "id": "2d46e437-c17c-4e46-8c14-9fd644952932",
   "metadata": {},
   "outputs": [
    {
     "data": {
      "text/plain": [
       "'English'"
      ]
     },
     "execution_count": 4,
     "metadata": {},
     "output_type": "execute_result"
    }
   ],
   "source": [
    "# Fetching data by key\n",
    "\n",
    "s.loc[\"Molly\"]"
   ]
  },
  {
   "cell_type": "code",
   "execution_count": 6,
   "id": "c8520167",
   "metadata": {},
   "outputs": [
    {
     "name": "stderr",
     "output_type": "stream",
     "text": [
      "/var/folders/73/c48zw2tx11vct3n00txykcc00000gn/T/ipykernel_74525/2275864707.py:4: FutureWarning: Series.__getitem__ treating keys as positions is deprecated. In a future version, integer keys will always be treated as labels (consistent with DataFrame behavior). To access a value by position, use `ser.iloc[pos]`\n",
      "  s[2]\n"
     ]
    },
    {
     "data": {
      "text/plain": [
       "'English'"
      ]
     },
     "execution_count": 6,
     "metadata": {},
     "output_type": "execute_result"
    }
   ],
   "source": [
    "# iloc and loc are not methods, but attributes. That is why square brackets are used, instead of parentheses.\n",
    "# index value calls iloc in the background\n",
    "\n",
    "s[2] # not supported anymore; use the iloc attribute to identify via index"
   ]
  },
  {
   "cell_type": "code",
   "execution_count": 7,
   "id": "a1a4637c",
   "metadata": {},
   "outputs": [
    {
     "data": {
      "text/plain": [
       "'English'"
      ]
     },
     "execution_count": 7,
     "metadata": {},
     "output_type": "execute_result"
    }
   ],
   "source": [
    "# Similar to prev. example, key can be used to call loc in the background\n",
    "\n",
    "s[\"Molly\"]"
   ]
  },
  {
   "cell_type": "code",
   "execution_count": 13,
   "id": "4ae19074",
   "metadata": {},
   "outputs": [
    {
     "data": {
      "text/plain": [
       "'Chemistry'"
      ]
     },
     "execution_count": 13,
     "metadata": {},
     "output_type": "execute_result"
    }
   ],
   "source": [
    "# Above options don't work when you have indices as series of integers\n",
    "\n",
    "code = {99: \"Physics\", 100: \"Chemistry\", 101: \"English\", 102: \"History\"}\n",
    "s = pd.Series(code)\n",
    "\n",
    "# s[1]    # throws error; cuz indices don't have the number 1, and don't identify 1 as the second index(as in 0, 1, 2)\n",
    "s.iloc[1] # this works though, since the particular attribute is being called\n",
    "s[100]  # this works too; cuz 100 is an index"
   ]
  },
  {
   "cell_type": "code",
   "execution_count": 14,
   "id": "a7bc2b19",
   "metadata": {},
   "outputs": [
    {
     "name": "stdout",
     "output_type": "stream",
     "text": [
      "75.0\n"
     ]
    }
   ],
   "source": [
    "# trying to get average of student grades from a series of student grades\n",
    "\n",
    "grades = pd.Series([90, 80, 70, 60])\n",
    "\n",
    "total = 0\n",
    "for grade in grades:\n",
    "    total += grade\n",
    "print(total/len(grades))"
   ]
  },
  {
   "cell_type": "code",
   "execution_count": 15,
   "id": "3104b53a",
   "metadata": {},
   "outputs": [
    {
     "name": "stdout",
     "output_type": "stream",
     "text": [
      "75.0\n"
     ]
    }
   ],
   "source": [
    "# above method works; but is slow. we can do it with the numpy sum method; uses vectorization (apparently faster)\n",
    "\n",
    "import numpy as np\n",
    "\n",
    "total = np.sum(grades)\n",
    "print(total/len(grades))"
   ]
  },
  {
   "cell_type": "code",
   "execution_count": 16,
   "id": "9ee7fe00",
   "metadata": {},
   "outputs": [
    {
     "data": {
      "text/plain": [
       "0     42\n",
       "1    693\n",
       "2    462\n",
       "3    845\n",
       "4    283\n",
       "dtype: int64"
      ]
     },
     "execution_count": 16,
     "metadata": {},
     "output_type": "execute_result"
    }
   ],
   "source": [
    "# checking which one runs faster\n",
    "\n",
    "numbers = pd.Series(np.random.randint(0, 1000, 10000))\n",
    "numbers.head()  # head function shows the first five elements of the series"
   ]
  },
  {
   "cell_type": "code",
   "execution_count": 17,
   "id": "7ccd102d",
   "metadata": {},
   "outputs": [
    {
     "data": {
      "text/plain": [
       "10000"
      ]
     },
     "execution_count": 17,
     "metadata": {},
     "output_type": "execute_result"
    }
   ],
   "source": [
    "len(numbers)"
   ]
  },
  {
   "cell_type": "code",
   "execution_count": 21,
   "id": "bd2394f7",
   "metadata": {},
   "outputs": [
    {
     "name": "stdout",
     "output_type": "stream",
     "text": [
      "420 µs ± 33 µs per loop (mean ± std. dev. of 7 runs, 100 loops each)\n"
     ]
    }
   ],
   "source": [
    "%%timeit -n 100 # we'll be using the magic function called timeit to run the function few times, and see how long it takes\n",
    "total = 0\n",
    "for number in numbers:\n",
    "    total += number\n",
    "total/len(numbers)  # takes 420 microseconds + 33 microsecond per loop"
   ]
  },
  {
   "cell_type": "code",
   "execution_count": 23,
   "id": "5a2a7c6b",
   "metadata": {},
   "outputs": [
    {
     "name": "stdout",
     "output_type": "stream",
     "text": [
      "8.33 µs ± 681 ns per loop (mean ± std. dev. of 7 runs, 100 loops each)\n"
     ]
    }
   ],
   "source": [
    "%%timeit -n 100\n",
    "total = np.sum(grades)\n",
    "total/len(grades)   # takes 8.33 microseconds + 681 nanoseconds per loop; massive difference from prev."
   ]
  },
  {
   "cell_type": "code",
   "execution_count": 24,
   "id": "38a4a3b6",
   "metadata": {},
   "outputs": [
    {
     "data": {
      "text/plain": [
       "0     42\n",
       "1    693\n",
       "2    462\n",
       "3    845\n",
       "4    283\n",
       "dtype: int64"
      ]
     },
     "execution_count": 24,
     "metadata": {},
     "output_type": "execute_result"
    }
   ],
   "source": [
    "# another feature called broadcasting can be used to do an operation on every element of the series\n",
    "numbers.head()"
   ]
  },
  {
   "cell_type": "code",
   "execution_count": 25,
   "id": "01f9cf99",
   "metadata": {},
   "outputs": [
    {
     "data": {
      "text/plain": [
       "0     44\n",
       "1    695\n",
       "2    464\n",
       "3    847\n",
       "4    285\n",
       "dtype: int64"
      ]
     },
     "execution_count": 25,
     "metadata": {},
     "output_type": "execute_result"
    }
   ],
   "source": [
    "numbers += 2\n",
    "numbers.head() # all values get increased by 2"
   ]
  },
  {
   "cell_type": "code",
   "execution_count": 30,
   "id": "e2aade78",
   "metadata": {},
   "outputs": [
    {
     "data": {
      "text/plain": [
       "0     46\n",
       "1    697\n",
       "2    466\n",
       "3    849\n",
       "4    287\n",
       "dtype: int64"
      ]
     },
     "execution_count": 30,
     "metadata": {},
     "output_type": "execute_result"
    }
   ],
   "source": [
    "# we can still do this via iterating through every element\n",
    "\n",
    "for label, value in numbers.items():\n",
    "    numbers.iat[label] = value+2\n",
    "\n",
    "numbers.head()"
   ]
  },
  {
   "cell_type": "code",
   "execution_count": 32,
   "id": "d0b75327",
   "metadata": {},
   "outputs": [
    {
     "name": "stdout",
     "output_type": "stream",
     "text": [
      "110 ms ± 2.11 ms per loop (mean ± std. dev. of 7 runs, 10 loops each)\n"
     ]
    }
   ],
   "source": [
    "%%timeit -n 10 # speed check using generic changing and the items() function\n",
    "\n",
    "s = pd.Series(np.random.randint(0, 1000, 10000))\n",
    "for label, value in s.items():\n",
    "    s.loc[label] = value + 2 # 110 microseconds + 2.11 microseconds per loop"
   ]
  },
  {
   "cell_type": "code",
   "execution_count": 33,
   "id": "02dde901",
   "metadata": {},
   "outputs": [
    {
     "name": "stdout",
     "output_type": "stream",
     "text": [
      "88.3 µs ± 33.7 µs per loop (mean ± std. dev. of 7 runs, 10 loops each)\n"
     ]
    }
   ],
   "source": [
    "%%timeit -n 10\n",
    "\n",
    "s = pd.Series(np.random.randint(0, 1000, 10000))\n",
    "s += 2 # 88.3 microseconds + 33.7 nanoseconds; way faster than previous"
   ]
  },
  {
   "cell_type": "code",
   "execution_count": 34,
   "id": "63868f8b",
   "metadata": {},
   "outputs": [
    {
     "data": {
      "text/plain": [
       "0            1\n",
       "1            2\n",
       "2            3\n",
       "History    102\n",
       "dtype: int64"
      ]
     },
     "execution_count": 34,
     "metadata": {},
     "output_type": "execute_result"
    }
   ],
   "source": [
    "# adding new data via loc operator\n",
    "\n",
    "s = pd.Series([1, 2, 3])\n",
    "s.loc[\"History\"] = 102\n",
    "s"
   ]
  },
  {
   "cell_type": "code",
   "execution_count": 38,
   "id": "7bcae726",
   "metadata": {},
   "outputs": [
    {
     "data": {
      "text/plain": [
       "Alice      Physics\n",
       "Jack     Chemistry\n",
       "Molly      English\n",
       "Sam        History\n",
       "dtype: object"
      ]
     },
     "execution_count": 38,
     "metadata": {},
     "output_type": "execute_result"
    }
   ],
   "source": [
    "# dealing with similar values\n",
    "\n",
    "classes = pd.Series({\n",
    "    \"Alice\": \"Physics\",\n",
    "    \"Jack\": \"Chemistry\",\n",
    "    \"Molly\": \"English\",\n",
    "    \"Sam\": \"History\"\n",
    "})\n",
    "\n",
    "classes"
   ]
  },
  {
   "cell_type": "code",
   "execution_count": 39,
   "id": "2bf94032",
   "metadata": {},
   "outputs": [
    {
     "data": {
      "text/plain": [
       "Kelly    Philosophy\n",
       "Kelly          Arts\n",
       "Kelly          Math\n",
       "dtype: object"
      ]
     },
     "execution_count": 39,
     "metadata": {},
     "output_type": "execute_result"
    }
   ],
   "source": [
    "kellyClasses = pd.Series([\"Philosophy\", \"Arts\", \"Math\"], index=[\"Kelly\", \"Kelly\", \"Kelly\"])\n",
    "kellyClasses"
   ]
  },
  {
   "cell_type": "code",
   "execution_count": 41,
   "id": "a287e6bb",
   "metadata": {},
   "outputs": [
    {
     "data": {
      "text/plain": [
       "Alice       Physics\n",
       "Jack      Chemistry\n",
       "Molly       English\n",
       "Sam         History\n",
       "Kelly    Philosophy\n",
       "Kelly          Arts\n",
       "Kelly          Math\n",
       "dtype: object"
      ]
     },
     "execution_count": 41,
     "metadata": {},
     "output_type": "execute_result"
    }
   ],
   "source": [
    "# adding similar values to classes series; append creates a new series with both series' data; no changes are done\n",
    "\n",
    "allClasses = classes._append(kellyClasses)\n",
    "allClasses"
   ]
  },
  {
   "cell_type": "code",
   "execution_count": 42,
   "id": "eb4db094",
   "metadata": {},
   "outputs": [
    {
     "data": {
      "text/plain": [
       "Kelly    Philosophy\n",
       "Kelly          Arts\n",
       "Kelly          Math\n",
       "dtype: object"
      ]
     },
     "execution_count": 42,
     "metadata": {},
     "output_type": "execute_result"
    }
   ],
   "source": [
    "# checking for kelly returns a series itself, since similar key has many values\n",
    "\n",
    "allClasses[\"Kelly\"]"
   ]
  }
 ],
 "metadata": {
  "kernelspec": {
   "display_name": "Python 3.10.5 64-bit",
   "language": "python",
   "name": "python3"
  },
  "language_info": {
   "codemirror_mode": {
    "name": "ipython",
    "version": 3
   },
   "file_extension": ".py",
   "mimetype": "text/x-python",
   "name": "python",
   "nbconvert_exporter": "python",
   "pygments_lexer": "ipython3",
   "version": "3.10.5"
  },
  "vscode": {
   "interpreter": {
    "hash": "aee8b7b246df8f9039afb4144a1f6fd8d2ca17a180786b69acc140d282b71a49"
   }
  }
 },
 "nbformat": 4,
 "nbformat_minor": 5
}
