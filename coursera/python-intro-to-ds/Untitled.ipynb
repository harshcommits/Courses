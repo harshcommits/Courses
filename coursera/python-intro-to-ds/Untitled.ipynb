{
 "cells": [
  {
   "cell_type": "code",
   "execution_count": 1,
   "id": "62e0d64d-dc64-4780-806a-028bcab27027",
   "metadata": {},
   "outputs": [
    {
     "data": {
      "text/plain": [
       "0        John\n",
       "1       Jaani\n",
       "2    Janardan\n",
       "dtype: object"
      ]
     },
     "execution_count": 1,
     "metadata": {},
     "output_type": "execute_result"
    }
   ],
   "source": [
    "# using series with strings; returns type object\n",
    "\n",
    "import pandas as pd\n",
    "\n",
    "students = [\"John\", \"Jaani\", \"Janardan\"]\n",
    "pd.Series(students)"
   ]
  },
  {
   "cell_type": "code",
   "execution_count": 2,
   "id": "1bc622b8-a8c8-4cf5-8bf1-50cfacd7223d",
   "metadata": {},
   "outputs": [
    {
     "data": {
      "text/plain": [
       "0    1\n",
       "1    2\n",
       "2    3\n",
       "dtype: int64"
      ]
     },
     "execution_count": 2,
     "metadata": {},
     "output_type": "execute_result"
    }
   ],
   "source": [
    "# Using series with numbers; returns different data type (int64)\n",
    "\n",
    "numbers = [1, 2, 3]\n",
    "pd.Series(numbers)"
   ]
  },
  {
   "cell_type": "code",
   "execution_count": 3,
   "id": "2b359491-bd55-4024-afa3-0195d6e7468f",
   "metadata": {},
   "outputs": [
    {
     "data": {
      "text/plain": [
       "0     John\n",
       "1    Janni\n",
       "2     None\n",
       "dtype: object"
      ]
     },
     "execution_count": 3,
     "metadata": {},
     "output_type": "execute_result"
    }
   ],
   "source": [
    "# Checking how series behave with None values\n",
    "\n",
    "students = [\"John\", \"Janni\", None]\n",
    "pd.Series(students)  # returns None as type object"
   ]
  },
  {
   "cell_type": "code",
   "execution_count": 4,
   "id": "85170bfc-641c-4b1e-9e96-1dcc1208037e",
   "metadata": {},
   "outputs": [
    {
     "data": {
      "text/plain": [
       "0    1.0\n",
       "1    2.0\n",
       "2    NaN\n",
       "dtype: float64"
      ]
     },
     "execution_count": 4,
     "metadata": {},
     "output_type": "execute_result"
    }
   ],
   "source": [
    "# Checking None with number series\n",
    "\n",
    "number = [1, 2, None]\n",
    "pd.Series(number)  # None shows as NaN (not-a-number); data type is float64, not int64 cuz NaN is float under-the-hood"
   ]
  },
  {
   "cell_type": "code",
   "execution_count": 5,
   "id": "d90daabd-e450-4509-b2dd-045dab0058a3",
   "metadata": {},
   "outputs": [
    {
     "data": {
      "text/plain": [
       "False"
      ]
     },
     "execution_count": 5,
     "metadata": {},
     "output_type": "execute_result"
    }
   ],
   "source": [
    "# pandas considers None and NaN differently\n",
    "\n",
    "import numpy as np\n",
    "\n",
    "np.nan == None   # returns false"
   ]
  },
  {
   "cell_type": "code",
   "execution_count": 6,
   "id": "6a319ad3-e355-4275-a63b-b3bbbb1ab405",
   "metadata": {},
   "outputs": [
    {
     "data": {
      "text/plain": [
       "False"
      ]
     },
     "execution_count": 6,
     "metadata": {},
     "output_type": "execute_result"
    }
   ],
   "source": [
    "# Even comparison of np.nan to itself returns false\n",
    "\n",
    "np.nan == np.nan   # also returns False"
   ]
  },
  {
   "cell_type": "code",
   "execution_count": 7,
   "id": "7a1c116e-0499-4e4f-8dd3-8fe89987ef04",
   "metadata": {},
   "outputs": [
    {
     "data": {
      "text/plain": [
       "True"
      ]
     },
     "execution_count": 7,
     "metadata": {},
     "output_type": "execute_result"
    }
   ],
   "source": [
    "# We need special functions for nan comparison\n",
    "\n",
    "np.isnan(np.nan)  # returns True"
   ]
  },
  {
   "cell_type": "code",
   "execution_count": 8,
   "id": "ce869efd-4614-4b19-a12c-94fc004de8da",
   "metadata": {},
   "outputs": [
    {
     "data": {
      "text/plain": [
       "Alice      Physics\n",
       "Jack     Chemistry\n",
       "Molly      English\n",
       "dtype: object"
      ]
     },
     "execution_count": 8,
     "metadata": {},
     "output_type": "execute_result"
    }
   ],
   "source": [
    "# Setting up series as store for key-value pairs\n",
    "\n",
    "scores = {\"Alice\": \"Physics\",\n",
    "          \"Jack\": \"Chemistry\",\n",
    "          \"Molly\": \"English\"}\n",
    "\n",
    "s = pd.Series(scores)  # returns dtype object since values are strings\n",
    "s"
   ]
  },
  {
   "cell_type": "code",
   "execution_count": 9,
   "id": "86cc05aa-1f25-4dae-8618-e0ddaec73a47",
   "metadata": {},
   "outputs": [
    {
     "data": {
      "text/plain": [
       "Index(['Alice', 'Jack', 'Molly'], dtype='object')"
      ]
     },
     "execution_count": 9,
     "metadata": {},
     "output_type": "execute_result"
    }
   ],
   "source": [
    "s.index  # returns keys in a list; type is object again. object data type can be for anything, even complex examples like tuples"
   ]
  },
  {
   "cell_type": "code",
   "execution_count": 10,
   "id": "6b06d245-481c-41ad-8676-fa7e2cbcc083",
   "metadata": {},
   "outputs": [
    {
     "data": {
      "text/plain": [
       "Alice      Physics\n",
       "Jack     Chemistry\n",
       "Molly      English\n",
       "dtype: object"
      ]
     },
     "execution_count": 10,
     "metadata": {},
     "output_type": "execute_result"
    }
   ],
   "source": [
    "# Creating series by passing list of indices explicitly\n",
    "\n",
    "s = pd.Series([\"Physics\", \"Chemistry\", \"English\"], index=[\"Alice\", \"Jack\", \"Molly\"])\n",
    "s  # returns values in similar fashion to prev. examples"
   ]
  },
  {
   "cell_type": "code",
   "execution_count": 11,
   "id": "6ba9fb85-5ee0-420d-8e1e-269de8133b95",
   "metadata": {},
   "outputs": [
    {
     "data": {
      "text/plain": [
       "Alice      Physics\n",
       "Jack     Chemistry\n",
       "Sam            NaN\n",
       "dtype: object"
      ]
     },
     "execution_count": 11,
     "metadata": {},
     "output_type": "execute_result"
    }
   ],
   "source": [
    "# In case key values are not aligned with series, pandas automatically assigns None or NaN in that case\n",
    "\n",
    "scores = {\"Alice\": \"Physics\", \"Jack\": \"Chemistry\", \"Molly\": \"English\"}\n",
    "s = pd.Series(scores, index=[\"Alice\", \"Jack\", \"Sam\"])\n",
    "s # since Sam is not in series indices, it automatically gives it NaN value"
   ]
  },
  {
   "cell_type": "code",
   "execution_count": null,
   "id": "cd9a9b60-2007-4285-abe4-f3763474f7d0",
   "metadata": {},
   "outputs": [],
   "source": []
  }
 ],
 "metadata": {
  "kernelspec": {
   "display_name": "Python 3.10.5 64-bit",
   "language": "python",
   "name": "python3"
  },
  "language_info": {
   "codemirror_mode": {
    "name": "ipython",
    "version": 3
   },
   "file_extension": ".py",
   "mimetype": "text/x-python",
   "name": "python",
   "nbconvert_exporter": "python",
   "pygments_lexer": "ipython3",
   "version": "3.10.5"
  },
  "vscode": {
   "interpreter": {
    "hash": "aee8b7b246df8f9039afb4144a1f6fd8d2ca17a180786b69acc140d282b71a49"
   }
  }
 },
 "nbformat": 4,
 "nbformat_minor": 5
}
